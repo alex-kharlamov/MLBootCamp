{
 "cells": [
  {
   "cell_type": "code",
   "execution_count": 1,
   "metadata": {
    "collapsed": false,
    "deletable": true,
    "editable": true
   },
   "outputs": [],
   "source": [
    "import numpy as np\n",
    "import pandas as pd\n",
    "import matplotlib.pyplot as plt\n",
    "from sklearn.preprocessing import PolynomialFeatures\n",
    "from sklearn.ensemble import RandomForestRegressor\n",
    "from sklearn.model_selection import train_test_split\n",
    "from sklearn.metrics import log_loss"
   ]
  },
  {
   "cell_type": "code",
   "execution_count": 2,
   "metadata": {
    "collapsed": true,
    "deletable": true,
    "editable": true
   },
   "outputs": [],
   "source": [
    "data_train = pd.read_csv(\"x_train.csv\", sep=';')"
   ]
  },
  {
   "cell_type": "code",
   "execution_count": 3,
   "metadata": {
    "collapsed": true,
    "deletable": true,
    "editable": true
   },
   "outputs": [],
   "source": [
    "data_test = pd.read_csv(\"x_test.csv\", sep=';')"
   ]
  },
  {
   "cell_type": "code",
   "execution_count": 4,
   "metadata": {
    "collapsed": true,
    "deletable": true,
    "editable": true
   },
   "outputs": [],
   "source": [
    "ans_train = pd.read_csv(\"y_train.csv\", )"
   ]
  },
  {
   "cell_type": "code",
   "execution_count": 49,
   "metadata": {
    "collapsed": true,
    "deletable": true,
    "editable": true
   },
   "outputs": [],
   "source": [
    "pol = PolynomialFeatures(degree=3)\n",
    "data = pol.fit_transform(data_train)"
   ]
  },
  {
   "cell_type": "code",
   "execution_count": 55,
   "metadata": {
    "collapsed": true,
    "deletable": true,
    "editable": true
   },
   "outputs": [],
   "source": [
    "pol = PolynomialFeatures(degree=3)\n",
    "data_test_pol = pol.fit_transform(data_test)"
   ]
  },
  {
   "cell_type": "code",
   "execution_count": 52,
   "metadata": {
    "collapsed": false,
    "deletable": true,
    "editable": true
   },
   "outputs": [],
   "source": [
    "X_train, X_test, y_train, y_test = train_test_split(data, ans_train.as_matrix().flatten(), test_size=0.33, random_state=42)"
   ]
  },
  {
   "cell_type": "code",
   "execution_count": 53,
   "metadata": {
    "collapsed": false,
    "deletable": true,
    "editable": true
   },
   "outputs": [],
   "source": [
    "import pandas as pd\n",
    "import numpy as np\n",
    "import xgboost as xgb\n",
    "from sklearn.cross_validation import train_test_split\n",
    "from hyperopt import STATUS_OK, Trials, fmin, hp, tpe\n",
    "\n",
    "\n",
    "SEED = 42\n",
    "\n",
    "def score(params):\n",
    "    print(\"Training with params: \")\n",
    "    print(params)\n",
    "    num_round = int(params['n_estimators'])\n",
    "    del params['n_estimators']\n",
    "    dtrain = xgb.DMatrix(X_train, label=y_train)\n",
    "    dvalid = xgb.DMatrix(X_test, label=y_test)\n",
    "    watchlist = [(dvalid, 'eval'), (dtrain, 'train')]\n",
    "    gbm_model = xgb.train(params, dtrain, num_round,\n",
    "                          evals=watchlist,\n",
    "                          verbose_eval=False)\n",
    "    predictions = gbm_model.predict(dvalid,\n",
    "                                    ntree_limit=gbm_model.best_iteration + 1)\n",
    "    score = 1 - log_loss(y_test, predictions)\n",
    "    \n",
    "    print(\"\\tScore {0}\\n\\n\".format(score))\n",
    "    return {'loss': score, 'status': STATUS_OK}\n",
    "\n",
    "\n",
    "def optimize(\n",
    "             #trials, \n",
    "             random_state=SEED):\n",
    "    \"\"\"\n",
    "    This is the optimization function that given a space (space here) of \n",
    "    hyperparameters and a scoring function (score here), finds the best hyperparameters.\n",
    "    \"\"\"\n",
    "\n",
    "    space = {\n",
    "        'n_estimators': hp.quniform('n_estimators', 5, 1000, 1),\n",
    "        'eta': hp.quniform('eta', 0.025, 0.5, 0.025),\n",
    "        # A problem with max_depth casted to float instead of int with\n",
    "        # the hp.quniform method.\n",
    "        'max_depth':  hp.choice('max_depth', np.arange(1, 20, dtype=int)),\n",
    "        'min_child_weight': hp.quniform('min_child_weight', 1, 10, 1),\n",
    "        'subsample': hp.quniform('subsample', 0.5, 1, 0.05),\n",
    "        'gamma': hp.quniform('gamma', 0.2, 1, 0.05),\n",
    "        'colsample_bytree': hp.quniform('colsample_bytree', 0.5, 1, 0.05),\n",
    "        'eval_metric': 'logloss',\n",
    "        'objective': 'binary:logistic',\n",
    "        'nthread': 8,\n",
    "        'booster': 'gbtree',\n",
    "        'tree_method': 'exact',\n",
    "        'silent': 1,\n",
    "        'seed': random_state\n",
    "    }\n",
    "    # Use the fmin function from Hyperopt to find the best hyperparameters\n",
    "    best = fmin(score, space, algo=tpe.suggest, \n",
    "                # trials=trials, \n",
    "                max_evals=25)\n",
    "    return best"
   ]
  },
  {
   "cell_type": "code",
   "execution_count": 54,
   "metadata": {
    "collapsed": false,
    "deletable": true,
    "editable": true
   },
   "outputs": [
    {
     "name": "stdout",
     "output_type": "stream",
     "text": [
      "Training with params: \n",
      "{'n_estimators': 972.0, 'colsample_bytree': 0.75, 'nthread': 8, 'eval_metric': 'logloss', 'min_child_weight': 4.0, 'objective': 'binary:logistic', 'silent': 1, 'seed': 42, 'subsample': 0.9500000000000001, 'eta': 0.17500000000000002, 'tree_method': 'exact', 'max_depth': 16, 'booster': 'gbtree', 'gamma': 1.0}\n",
      "\tScore 0.5072577647876284\n",
      "\n",
      "\n",
      "Training with params: \n",
      "{'n_estimators': 977.0, 'colsample_bytree': 0.6000000000000001, 'nthread': 8, 'eval_metric': 'logloss', 'min_child_weight': 9.0, 'objective': 'binary:logistic', 'silent': 1, 'seed': 42, 'subsample': 0.75, 'eta': 0.47500000000000003, 'tree_method': 'exact', 'max_depth': 9, 'booster': 'gbtree', 'gamma': 0.75}\n",
      "\tScore 0.3568572695816533\n",
      "\n",
      "\n",
      "Training with params: \n",
      "{'n_estimators': 961.0, 'colsample_bytree': 0.9500000000000001, 'nthread': 8, 'eval_metric': 'logloss', 'min_child_weight': 5.0, 'objective': 'binary:logistic', 'silent': 1, 'seed': 42, 'subsample': 0.8, 'eta': 0.1, 'tree_method': 'exact', 'max_depth': 13, 'booster': 'gbtree', 'gamma': 0.35000000000000003}\n",
      "\tScore 0.4714207636360802\n",
      "\n",
      "\n",
      "Training with params: \n",
      "{'n_estimators': 450.0, 'colsample_bytree': 0.8500000000000001, 'nthread': 8, 'eval_metric': 'logloss', 'min_child_weight': 2.0, 'objective': 'binary:logistic', 'silent': 1, 'seed': 42, 'subsample': 0.8, 'eta': 0.275, 'tree_method': 'exact', 'max_depth': 17, 'booster': 'gbtree', 'gamma': 0.8}\n",
      "\tScore 0.4589572034445619\n",
      "\n",
      "\n",
      "Training with params: \n",
      "{'n_estimators': 927.0, 'colsample_bytree': 0.5, 'nthread': 8, 'eval_metric': 'logloss', 'min_child_weight': 7.0, 'objective': 'binary:logistic', 'silent': 1, 'seed': 42, 'subsample': 0.65, 'eta': 0.07500000000000001, 'tree_method': 'exact', 'max_depth': 8, 'booster': 'gbtree', 'gamma': 0.65}\n",
      "\tScore 0.5501767393555808\n",
      "\n",
      "\n",
      "Training with params: \n",
      "{'n_estimators': 53.0, 'colsample_bytree': 0.8500000000000001, 'nthread': 8, 'eval_metric': 'logloss', 'min_child_weight': 8.0, 'objective': 'binary:logistic', 'silent': 1, 'seed': 42, 'subsample': 0.55, 'eta': 0.275, 'tree_method': 'exact', 'max_depth': 12, 'booster': 'gbtree', 'gamma': 0.9500000000000001}\n",
      "\tScore 0.5708020510954839\n",
      "\n",
      "\n",
      "Training with params: \n",
      "{'n_estimators': 845.0, 'colsample_bytree': 0.55, 'nthread': 8, 'eval_metric': 'logloss', 'min_child_weight': 7.0, 'objective': 'binary:logistic', 'silent': 1, 'seed': 42, 'subsample': 0.7000000000000001, 'eta': 0.30000000000000004, 'tree_method': 'exact', 'max_depth': 14, 'booster': 'gbtree', 'gamma': 0.30000000000000004}\n",
      "\tScore 0.36245094432067515\n",
      "\n",
      "\n",
      "Training with params: \n",
      "{'n_estimators': 960.0, 'colsample_bytree': 0.9500000000000001, 'nthread': 8, 'eval_metric': 'logloss', 'min_child_weight': 8.0, 'objective': 'binary:logistic', 'silent': 1, 'seed': 42, 'subsample': 0.7000000000000001, 'eta': 0.17500000000000002, 'tree_method': 'exact', 'max_depth': 14, 'booster': 'gbtree', 'gamma': 0.4}\n",
      "\tScore 0.42487254796002405\n",
      "\n",
      "\n",
      "Training with params: \n",
      "{'n_estimators': 96.0, 'colsample_bytree': 0.7000000000000001, 'nthread': 8, 'eval_metric': 'logloss', 'min_child_weight': 3.0, 'objective': 'binary:logistic', 'silent': 1, 'seed': 42, 'subsample': 0.8, 'eta': 0.47500000000000003, 'tree_method': 'exact', 'max_depth': 7, 'booster': 'gbtree', 'gamma': 0.8}\n",
      "\tScore 0.5207010881784833\n",
      "\n",
      "\n",
      "Training with params: \n",
      "{'n_estimators': 709.0, 'colsample_bytree': 0.8, 'nthread': 8, 'eval_metric': 'logloss', 'min_child_weight': 7.0, 'objective': 'binary:logistic', 'silent': 1, 'seed': 42, 'subsample': 0.75, 'eta': 0.45, 'tree_method': 'exact', 'max_depth': 9, 'booster': 'gbtree', 'gamma': 0.9}\n",
      "\tScore 0.39589139418555896\n",
      "\n",
      "\n",
      "Training with params: \n",
      "{'n_estimators': 979.0, 'colsample_bytree': 0.65, 'nthread': 8, 'eval_metric': 'logloss', 'min_child_weight': 6.0, 'objective': 'binary:logistic', 'silent': 1, 'seed': 42, 'subsample': 0.8, 'eta': 0.275, 'tree_method': 'exact', 'max_depth': 12, 'booster': 'gbtree', 'gamma': 0.9}\n",
      "\tScore 0.4527579010830701\n",
      "\n",
      "\n",
      "Training with params: \n",
      "{'n_estimators': 247.0, 'colsample_bytree': 0.55, 'nthread': 8, 'eval_metric': 'logloss', 'min_child_weight': 4.0, 'objective': 'binary:logistic', 'silent': 1, 'seed': 42, 'subsample': 0.9500000000000001, 'eta': 0.17500000000000002, 'tree_method': 'exact', 'max_depth': 11, 'booster': 'gbtree', 'gamma': 0.35000000000000003}\n",
      "\tScore 0.5434087622483188\n",
      "\n",
      "\n",
      "Training with params: \n",
      "{'n_estimators': 421.0, 'colsample_bytree': 0.75, 'nthread': 8, 'eval_metric': 'logloss', 'min_child_weight': 4.0, 'objective': 'binary:logistic', 'silent': 1, 'seed': 42, 'subsample': 0.65, 'eta': 0.35000000000000003, 'tree_method': 'exact', 'max_depth': 11, 'booster': 'gbtree', 'gamma': 0.9}\n",
      "\tScore 0.4148443811305017\n",
      "\n",
      "\n",
      "Training with params: \n",
      "{'n_estimators': 603.0, 'colsample_bytree': 0.6000000000000001, 'nthread': 8, 'eval_metric': 'logloss', 'min_child_weight': 7.0, 'objective': 'binary:logistic', 'silent': 1, 'seed': 42, 'subsample': 0.9, 'eta': 0.30000000000000004, 'tree_method': 'exact', 'max_depth': 9, 'booster': 'gbtree', 'gamma': 0.6000000000000001}\n",
      "\tScore 0.45073908071975755\n",
      "\n",
      "\n",
      "Training with params: \n",
      "{'n_estimators': 868.0, 'colsample_bytree': 0.7000000000000001, 'nthread': 8, 'eval_metric': 'logloss', 'min_child_weight': 10.0, 'objective': 'binary:logistic', 'silent': 1, 'seed': 42, 'subsample': 0.65, 'eta': 0.4, 'tree_method': 'exact', 'max_depth': 4, 'booster': 'gbtree', 'gamma': 0.30000000000000004}\n",
      "\tScore 0.4397156395327596\n",
      "\n",
      "\n",
      "Training with params: \n",
      "{'n_estimators': 543.0, 'colsample_bytree': 0.7000000000000001, 'nthread': 8, 'eval_metric': 'logloss', 'min_child_weight': 5.0, 'objective': 'binary:logistic', 'silent': 1, 'seed': 42, 'subsample': 0.75, 'eta': 0.17500000000000002, 'tree_method': 'exact', 'max_depth': 9, 'booster': 'gbtree', 'gamma': 0.8}\n",
      "\tScore 0.49487923053046856\n",
      "\n",
      "\n",
      "Training with params: \n",
      "{'n_estimators': 462.0, 'colsample_bytree': 0.65, 'nthread': 8, 'eval_metric': 'logloss', 'min_child_weight': 3.0, 'objective': 'binary:logistic', 'silent': 1, 'seed': 42, 'subsample': 0.8, 'eta': 0.225, 'tree_method': 'exact', 'max_depth': 10, 'booster': 'gbtree', 'gamma': 0.65}\n",
      "\tScore 0.46766936654200664\n",
      "\n",
      "\n",
      "Training with params: \n",
      "{'n_estimators': 433.0, 'colsample_bytree': 0.8, 'nthread': 8, 'eval_metric': 'logloss', 'min_child_weight': 6.0, 'objective': 'binary:logistic', 'silent': 1, 'seed': 42, 'subsample': 0.6000000000000001, 'eta': 0.47500000000000003, 'tree_method': 'exact', 'max_depth': 10, 'booster': 'gbtree', 'gamma': 0.9500000000000001}\n",
      "\tScore 0.34468802363262385\n",
      "\n",
      "\n",
      "Training with params: \n",
      "{'n_estimators': 134.0, 'colsample_bytree': 0.55, 'nthread': 8, 'eval_metric': 'logloss', 'min_child_weight': 10.0, 'objective': 'binary:logistic', 'silent': 1, 'seed': 42, 'subsample': 0.5, 'eta': 0.17500000000000002, 'tree_method': 'exact', 'max_depth': 4, 'booster': 'gbtree', 'gamma': 0.4}\n",
      "\tScore 0.6082873341101611\n",
      "\n",
      "\n",
      "Training with params: \n",
      "{'n_estimators': 662.0, 'colsample_bytree': 0.65, 'nthread': 8, 'eval_metric': 'logloss', 'min_child_weight': 8.0, 'objective': 'binary:logistic', 'silent': 1, 'seed': 42, 'subsample': 0.5, 'eta': 0.4, 'tree_method': 'exact', 'max_depth': 19, 'booster': 'gbtree', 'gamma': 0.30000000000000004}\n",
      "\tScore 0.295079423405048\n",
      "\n",
      "\n",
      "Training with params: \n",
      "{'n_estimators': 703.0, 'colsample_bytree': 0.8500000000000001, 'nthread': 8, 'eval_metric': 'logloss', 'min_child_weight': 9.0, 'objective': 'binary:logistic', 'silent': 1, 'seed': 42, 'subsample': 0.55, 'eta': 0.4, 'tree_method': 'exact', 'max_depth': 1, 'booster': 'gbtree', 'gamma': 0.2}\n",
      "\tScore 0.6100307534189748\n",
      "\n",
      "\n",
      "Training with params: \n",
      "{'n_estimators': 343.0, 'colsample_bytree': 0.9, 'nthread': 8, 'eval_metric': 'logloss', 'min_child_weight': 6.0, 'objective': 'binary:logistic', 'silent': 1, 'seed': 42, 'subsample': 0.5, 'eta': 0.4, 'tree_method': 'exact', 'max_depth': 19, 'booster': 'gbtree', 'gamma': 0.55}\n",
      "\tScore 0.3418864669752897\n",
      "\n",
      "\n",
      "Training with params: \n",
      "{'n_estimators': 296.0, 'colsample_bytree': 0.9, 'nthread': 8, 'eval_metric': 'logloss', 'min_child_weight': 8.0, 'objective': 'binary:logistic', 'silent': 1, 'seed': 42, 'subsample': 0.5, 'eta': 0.4, 'tree_method': 'exact', 'max_depth': 19, 'booster': 'gbtree', 'gamma': 0.5}\n",
      "\tScore 0.3439032559952938\n",
      "\n",
      "\n",
      "Training with params: \n",
      "{'n_estimators': 324.0, 'colsample_bytree': 1.0, 'nthread': 8, 'eval_metric': 'logloss', 'min_child_weight': 9.0, 'objective': 'binary:logistic', 'silent': 1, 'seed': 42, 'subsample': 0.55, 'eta': 0.35000000000000003, 'tree_method': 'exact', 'max_depth': 19, 'booster': 'gbtree', 'gamma': 0.5}\n",
      "\tScore 0.395167809911645\n",
      "\n",
      "\n",
      "Training with params: \n",
      "{'n_estimators': 686.0, 'colsample_bytree': 0.9500000000000001, 'nthread': 8, 'eval_metric': 'logloss', 'min_child_weight': 6.0, 'objective': 'binary:logistic', 'silent': 1, 'seed': 42, 'subsample': 0.5, 'eta': 0.35000000000000003, 'tree_method': 'exact', 'max_depth': 18, 'booster': 'gbtree', 'gamma': 0.5}\n",
      "\tScore 0.33009088027757383\n",
      "\n",
      "\n",
      "The best hyperparameters are:  \n",
      "\n",
      "{'n_estimators': 662.0, 'eta': 0.4, 'gamma': 0.30000000000000004, 'subsample': 0.5, 'min_child_weight': 8.0, 'max_depth': 18, 'colsample_bytree': 0.65}\n"
     ]
    }
   ],
   "source": [
    "best_hyperparams = optimize(\n",
    "                            #trials\n",
    "                            )\n",
    "print(\"The best hyperparameters are: \", \"\\n\")\n",
    "print(best_hyperparams)"
   ]
  },
  {
   "cell_type": "code",
   "execution_count": 88,
   "metadata": {
    "collapsed": false,
    "deletable": true,
    "editable": true
   },
   "outputs": [
    {
     "name": "stderr",
     "output_type": "stream",
     "text": [
      "[Parallel(n_jobs=-1)]: Done  34 tasks      | elapsed:    4.2s\n",
      "[Parallel(n_jobs=-1)]: Done 184 tasks      | elapsed:   19.3s\n",
      "[Parallel(n_jobs=-1)]: Done 434 tasks      | elapsed:   45.3s\n",
      "[Parallel(n_jobs=-1)]: Done 784 tasks      | elapsed:  1.4min\n",
      "[Parallel(n_jobs=-1)]: Done 1234 tasks      | elapsed:  2.2min\n",
      "[Parallel(n_jobs=-1)]: Done 1784 tasks      | elapsed:  3.1min\n",
      "[Parallel(n_jobs=-1)]: Done 2434 tasks      | elapsed:  4.2min\n",
      "[Parallel(n_jobs=-1)]: Done 3000 out of 3000 | elapsed:  5.2min finished\n"
     ]
    },
    {
     "data": {
      "text/plain": [
       "RandomForestRegressor(bootstrap=True, criterion='mse', max_depth=10,\n",
       "           max_features='auto', max_leaf_nodes=None,\n",
       "           min_impurity_split=1e-07, min_samples_leaf=1,\n",
       "           min_samples_split=2, min_weight_fraction_leaf=0.0,\n",
       "           n_estimators=3000, n_jobs=-1, oob_score=False,\n",
       "           random_state=None, verbose=1, warm_start=False)"
      ]
     },
     "execution_count": 88,
     "metadata": {},
     "output_type": "execute_result"
    }
   ],
   "source": [
    "model = RandomForestRegressor(n_estimators=3000, n_jobs=-1, verbose=1, max_depth=10, criterion='mse')\n",
    "\n",
    "model.fit(data, ans_train.as_matrix().flatten())"
   ]
  },
  {
   "cell_type": "markdown",
   "metadata": {},
   "source": [
    "{'n_estimators': 662.0, 'eta': 0.4, 'gamma': 0.30000000000000004, 'subsample': 0.5, 'min_child_weight': 8.0, 'max_depth': 18, 'colsample_bytree': 0.65}"
   ]
  },
  {
   "cell_type": "code",
   "execution_count": 60,
   "metadata": {
    "collapsed": false
   },
   "outputs": [
    {
     "data": {
      "text/plain": [
       "XGBRegressor(base_score=0.5, colsample_bylevel=1, colsample_bytree=0.65,\n",
       "       gamma=0.3, learning_rate=0.4, max_delta_step=0, max_depth=18,\n",
       "       min_child_weight=8, missing=None, n_estimators=662, nthread=-1,\n",
       "       objective='binary:logistic', reg_alpha=0, reg_lambda=1,\n",
       "       scale_pos_weight=1, seed=42, silent=True, subsample=0.5)"
      ]
     },
     "execution_count": 60,
     "metadata": {},
     "output_type": "execute_result"
    }
   ],
   "source": [
    "xgb_model = xgb.XGBRegressor(n_estimators=662,\n",
    "                             colsample_bytree=0.65,\n",
    "                             objective='binary:logistic',\n",
    "                             seed=42, gamma=0.3, \n",
    "                             min_child_weight=8,\n",
    "                             learning_rate=0.4,\n",
    "                             max_depth=18, subsample=0.5)\n",
    "\n",
    "xgb_model.fit(data, ans_train.as_matrix().flatten())"
   ]
  },
  {
   "cell_type": "code",
   "execution_count": 61,
   "metadata": {
    "collapsed": true
   },
   "outputs": [],
   "source": [
    "pred = xgb_model.predict(data_test_pol)"
   ]
  },
  {
   "cell_type": "code",
   "execution_count": 64,
   "metadata": {
    "collapsed": false
   },
   "outputs": [
    {
     "data": {
      "text/plain": [
       "array([  4.63528093e-03,   3.01649012e-02,   9.44289386e-01, ...,\n",
       "         1.38049378e-04,   6.20892271e-04,   6.37418255e-02], dtype=float32)"
      ]
     },
     "execution_count": 64,
     "metadata": {},
     "output_type": "execute_result"
    }
   ],
   "source": [
    "pred"
   ]
  },
  {
   "cell_type": "code",
   "execution_count": 89,
   "metadata": {
    "collapsed": false,
    "deletable": true,
    "editable": true
   },
   "outputs": [
    {
     "name": "stderr",
     "output_type": "stream",
     "text": [
      "[Parallel(n_jobs=8)]: Done  34 tasks      | elapsed:    0.0s\n",
      "[Parallel(n_jobs=8)]: Done 184 tasks      | elapsed:    0.1s\n",
      "[Parallel(n_jobs=8)]: Done 434 tasks      | elapsed:    0.2s\n",
      "[Parallel(n_jobs=8)]: Done 784 tasks      | elapsed:    0.3s\n",
      "[Parallel(n_jobs=8)]: Done 1234 tasks      | elapsed:    0.5s\n",
      "[Parallel(n_jobs=8)]: Done 1784 tasks      | elapsed:    0.7s\n",
      "[Parallel(n_jobs=8)]: Done 2434 tasks      | elapsed:    1.0s\n",
      "[Parallel(n_jobs=8)]: Done 3000 out of 3000 | elapsed:    1.2s finished\n"
     ]
    }
   ],
   "source": [
    "pred = model.predict(data_test_pol)"
   ]
  },
  {
   "cell_type": "code",
   "execution_count": 63,
   "metadata": {
    "collapsed": false,
    "deletable": true,
    "editable": true
   },
   "outputs": [],
   "source": [
    "pred.tofile(\"anses\", sep='\\n')"
   ]
  },
  {
   "cell_type": "code",
   "execution_count": 38,
   "metadata": {
    "collapsed": false,
    "deletable": true,
    "editable": true
   },
   "outputs": [
    {
     "data": {
      "text/plain": [
       "(8346,)"
      ]
     },
     "execution_count": 38,
     "metadata": {},
     "output_type": "execute_result"
    }
   ],
   "source": [
    "pred.shape"
   ]
  },
  {
   "cell_type": "code",
   "execution_count": 39,
   "metadata": {
    "collapsed": false,
    "deletable": true,
    "editable": true
   },
   "outputs": [
    {
     "data": {
      "text/plain": [
       "(8346, 1)"
      ]
     },
     "execution_count": 39,
     "metadata": {},
     "output_type": "execute_result"
    }
   ],
   "source": [
    "y_test.shape"
   ]
  },
  {
   "cell_type": "code",
   "execution_count": 39,
   "metadata": {
    "collapsed": false,
    "deletable": true,
    "editable": true
   },
   "outputs": [],
   "source": [
    "import os\n",
    "\n",
    "ans = []\n",
    "\n",
    "for elem in os.listdir('submissions/'):\n",
    "    data = pd.read_csv('submissions/' + elem)\n",
    "    ans.append(data)"
   ]
  },
  {
   "cell_type": "code",
   "execution_count": 41,
   "metadata": {
    "collapsed": false
   },
   "outputs": [],
   "source": [
    "average = ans[0] + ans[1]+ ans[2]+ ans[3]+ ans[4]+ ans[5]+ ans[6]+ ans[7]+ ans[8]"
   ]
  },
  {
   "cell_type": "code",
   "execution_count": 43,
   "metadata": {
    "collapsed": false
   },
   "outputs": [],
   "source": [
    "average /= 9"
   ]
  },
  {
   "cell_type": "code",
   "execution_count": 48,
   "metadata": {
    "collapsed": false
   },
   "outputs": [],
   "source": [
    "average.as_matrix().flatten().tofile(\"anses\", sep='\\n')"
   ]
  }
 ],
 "metadata": {
  "kernelspec": {
   "display_name": "Python 3",
   "language": "python",
   "name": "python3"
  },
  "language_info": {
   "codemirror_mode": {
    "name": "ipython",
    "version": 3
   },
   "file_extension": ".py",
   "mimetype": "text/x-python",
   "name": "python",
   "nbconvert_exporter": "python",
   "pygments_lexer": "ipython3",
   "version": "3.5.2"
  }
 },
 "nbformat": 4,
 "nbformat_minor": 2
}
